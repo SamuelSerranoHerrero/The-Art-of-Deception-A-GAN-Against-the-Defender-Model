{
 "cells": [
  {
   "cell_type": "code",
   "execution_count": 3,
   "id": "9b4b7713",
   "metadata": {},
   "outputs": [],
   "source": [
    "import pandas as pd\n",
    "import numpy as np\n",
    "import seaborn as sns\n",
    "import ipaddress\n",
    "from sklearn.preprocessing import LabelEncoder, StandardScaler\n",
    "from sklearn.model_selection import train_test_split\n",
    "from tensorflow.keras.models import Sequential\n",
    "from tensorflow.keras.layers import Dense, Dropout, Input, LeakyReLU, BatchNormalization\n",
    "from tensorflow.keras.optimizers import Adam\n",
    "from tensorflow.keras.callbacks import EarlyStopping\n",
    "import matplotlib.pyplot as plt\n",
    "import tensorflow as tf\n",
    "from sklearn.metrics import classification_report, confusion_matrix"
   ]
  },
  {
   "cell_type": "markdown",
   "id": "fc9e7511",
   "metadata": {},
   "source": [
    "## 1. Load the datset"
   ]
  },
  {
   "cell_type": "code",
   "execution_count": 4,
   "id": "fc6811b0",
   "metadata": {},
   "outputs": [],
   "source": [
    "df = pd.read_csv(\"NF-UQ-NIDS-V2_Sample-2.csv\")"
   ]
  },
  {
   "cell_type": "markdown",
   "id": "3230a398",
   "metadata": {},
   "source": [
    "## 2. Data preprocessing"
   ]
  },
  {
   "cell_type": "code",
   "execution_count": 122,
   "id": "65d8bd2c",
   "metadata": {},
   "outputs": [],
   "source": [
    "def load_and_preprocess_data(filepath):\n",
    "\n",
    "    df = pd.read_csv(\"NF-UQ-NIDS-V2_Sample-2.csv\")\n",
    "    \n",
    "    df = df.dropna()\n",
    "    df = df.drop(columns= \"SRC_TO_DST_SECOND_BYTES\")\n",
    "    print(f\"Datos después de eliminar nulos: {df.shape[0]} registros\")\n",
    "    \n",
    "    df = df[df['Attack_Class'].isin(['Benign', 'DDoS'])]\n",
    "    print(df[\"Attack_Class\"].value_counts())\n",
    "    print(f\"Datos después de filtrar clases: {df.shape[0]} registros\")\n",
    "    \n",
    "    df['target'] = df['Label'].apply(lambda x: 1 if x == 1 else 0)\n",
    "    \n",
    "    # Codificación de direcciones IP\n",
    "    df['IPV4_SRC_ADDR_encoded'] = df['IPV4_SRC_ADDR'].apply(lambda ip: int(ipaddress.IPv4Address(ip)))\n",
    "    df['IPV4_DST_ADDR_encoded'] = df['IPV4_DST_ADDR'].apply(lambda ip: int(ipaddress.IPv4Address(ip)))\n",
    "    \n",
    "    cols_to_drop = [\"Dataset\", \"Attack\", \"IPV4_SRC_ADDR\", \"IPV4_DST_ADDR\", \"Attack_Class\", \"Label\"]\n",
    "    df_cleaned = df.drop(columns=cols_to_drop)\n",
    "    \n",
    "    return df_cleaned"
   ]
  },
  {
   "cell_type": "code",
   "execution_count": 123,
   "id": "940f14f6",
   "metadata": {},
   "outputs": [
    {
     "name": "stdout",
     "output_type": "stream",
     "text": [
      "Datos después de eliminar nulos: 3799399 registros\n",
      "Attack_Class\n",
      "Benign    1258280\n",
      "DDoS      1087425\n",
      "Name: count, dtype: int64\n",
      "Datos después de filtrar clases: 2345705 registros\n"
     ]
    }
   ],
   "source": [
    "df_cleaned = load_and_preprocess_data(\"NF-UQ-NIDS-V2_Sample-2.csv\")"
   ]
  },
  {
   "cell_type": "markdown",
   "id": "2de99d63",
   "metadata": {},
   "source": [
    "## 3. Data scaling"
   ]
  },
  {
   "cell_type": "code",
   "execution_count": 124,
   "id": "d767e044",
   "metadata": {},
   "outputs": [],
   "source": [
    "def prepare_data(df_cleaned, test_size=0.2):\n",
    "\n",
    "    X = df_cleaned.drop(columns=\"target\")\n",
    "    y = df_cleaned[\"target\"]\n",
    "    \n",
    "    # Escalado con StandardScaler\n",
    "    scaler = StandardScaler()\n",
    "    X_scaled = pd.DataFrame(scaler.fit_transform(X), columns=X.columns)\n",
    "    \n",
    "    # División train-test\n",
    "    X_train, X_test, y_train, y_test = train_test_split(\n",
    "        X_scaled, y, test_size=test_size\n",
    "    )\n",
    "    \n",
    "    return X_scaled, y, X_train, X_test, y_train, y_test, scaler"
   ]
  },
  {
   "cell_type": "code",
   "execution_count": 125,
   "id": "99ec255e",
   "metadata": {},
   "outputs": [],
   "source": [
    "X_scaled, y, X_train, X_test, y_train, y_test, scaler = prepare_data(df_cleaned)"
   ]
  },
  {
   "cell_type": "markdown",
   "id": "6bbdf6d9",
   "metadata": {},
   "source": [
    "## 4. Elimination of columns with a single dominant value"
   ]
  },
  {
   "cell_type": "code",
   "execution_count": 126,
   "id": "2890b684",
   "metadata": {},
   "outputs": [
    {
     "name": "stdout",
     "output_type": "stream",
     "text": [
      "L4_SRC_PORT                    0.007288\n",
      "IPV4_SRC_ADDR_encoded          0.112661\n",
      "IPV4_DST_ADDR_encoded          0.188860\n",
      "IN_BYTES                       0.293817\n",
      "SRC_TO_DST_AVG_THROUGHPUT      0.306249\n",
      "IN_PKTS                        0.329105\n",
      "L7_PROTO                       0.388724\n",
      "LONGEST_FLOW_PKT               0.389078\n",
      "MAX_IP_PKT_LEN                 0.389078\n",
      "SHORTEST_FLOW_PKT              0.389079\n",
      "NUM_PKTS_UP_TO_128_BYTES       0.429477\n",
      "MIN_TTL                        0.441379\n",
      "MAX_TTL                        0.441401\n",
      "L4_DST_PORT                    0.464182\n",
      "MIN_IP_PKT_LEN                 0.489503\n",
      "OUT_PKTS                       0.489504\n",
      "OUT_BYTES                      0.489504\n",
      "DST_TO_SRC_AVG_THROUGHPUT      0.498081\n",
      "FLOW_DURATION_MILLISECONDS     0.526690\n",
      "DURATION_IN                    0.535387\n",
      "PROTOCOL                       0.577564\n",
      "TCP_FLAGS                      0.578634\n",
      "CLIENT_TCP_FLAGS               0.578725\n",
      "TCP_WIN_MAX_IN                 0.580229\n",
      "SERVER_TCP_FLAGS               0.670398\n",
      "TCP_WIN_MAX_OUT                0.706972\n",
      "NUM_PKTS_128_TO_256_BYTES      0.755997\n",
      "DNS_QUERY_TYPE                 0.819135\n",
      "DNS_QUERY_ID                   0.819135\n",
      "DNS_TTL_ANSWER                 0.824782\n",
      "NUM_PKTS_256_TO_512_BYTES      0.830640\n",
      "NUM_PKTS_512_TO_1024_BYTES     0.844260\n",
      "NUM_PKTS_1024_TO_1514_BYTES    0.862919\n",
      "DURATION_OUT                   0.923105\n",
      "ICMP_TYPE                      0.935654\n",
      "ICMP_IPV4_TYPE                 0.935654\n",
      "RETRANSMITTED_IN_PKTS          0.936325\n",
      "RETRANSMITTED_IN_BYTES         0.936325\n",
      "RETRANSMITTED_OUT_BYTES        0.944477\n",
      "RETRANSMITTED_OUT_PKTS         0.944477\n",
      "FTP_COMMAND_RET_CODE           0.990836\n",
      "DST_TO_SRC_SECOND_BYTES        1.000000\n",
      "dtype: float64\n"
     ]
    }
   ],
   "source": [
    "dominance = X_scaled.apply(lambda col: col.value_counts(normalize=True).iloc[0])\n",
    "print(dominance.sort_values())"
   ]
  },
  {
   "cell_type": "code",
   "execution_count": 127,
   "id": "3e860651",
   "metadata": {},
   "outputs": [],
   "source": [
    "highly_dominant_cols = dominance[dominance > 0.75].index\n",
    "X_filtered = X_scaled.drop(columns=highly_dominant_cols)"
   ]
  },
  {
   "cell_type": "markdown",
   "id": "072e880b",
   "metadata": {},
   "source": [
    "These are the columns we will use to train the final model."
   ]
  },
  {
   "cell_type": "code",
   "execution_count": 128,
   "id": "79a06ee8",
   "metadata": {},
   "outputs": [
    {
     "name": "stdout",
     "output_type": "stream",
     "text": [
      "L4_SRC_PORT                   0.007288\n",
      "IPV4_SRC_ADDR_encoded         0.112661\n",
      "IPV4_DST_ADDR_encoded         0.188860\n",
      "IN_BYTES                      0.293817\n",
      "SRC_TO_DST_AVG_THROUGHPUT     0.306249\n",
      "IN_PKTS                       0.329105\n",
      "L7_PROTO                      0.388724\n",
      "MAX_IP_PKT_LEN                0.389078\n",
      "LONGEST_FLOW_PKT              0.389078\n",
      "SHORTEST_FLOW_PKT             0.389079\n",
      "NUM_PKTS_UP_TO_128_BYTES      0.429477\n",
      "MIN_TTL                       0.441379\n",
      "MAX_TTL                       0.441401\n",
      "L4_DST_PORT                   0.464182\n",
      "MIN_IP_PKT_LEN                0.489503\n",
      "OUT_PKTS                      0.489504\n",
      "OUT_BYTES                     0.489504\n",
      "DST_TO_SRC_AVG_THROUGHPUT     0.498081\n",
      "FLOW_DURATION_MILLISECONDS    0.526690\n",
      "DURATION_IN                   0.535387\n",
      "PROTOCOL                      0.577564\n",
      "TCP_FLAGS                     0.578634\n",
      "CLIENT_TCP_FLAGS              0.578725\n",
      "TCP_WIN_MAX_IN                0.580229\n",
      "SERVER_TCP_FLAGS              0.670398\n",
      "TCP_WIN_MAX_OUT               0.706972\n",
      "dtype: float64\n"
     ]
    }
   ],
   "source": [
    "dominance_filtered = X_filtered.apply(lambda col: col.value_counts(normalize=True).iloc[0])\n",
    "print(dominance_filtered.sort_values())"
   ]
  },
  {
   "cell_type": "markdown",
   "id": "4e8a5a33",
   "metadata": {},
   "source": [
    "## 5. Model training"
   ]
  },
  {
   "cell_type": "code",
   "execution_count": 129,
   "id": "66193a83",
   "metadata": {},
   "outputs": [],
   "source": [
    "X_train, X_test, y_train, y_test = train_test_split(X_filtered, y, test_size= 0.2)"
   ]
  },
  {
   "cell_type": "code",
   "execution_count": 130,
   "id": "0a0a2d73",
   "metadata": {},
   "outputs": [
    {
     "name": "stdout",
     "output_type": "stream",
     "text": [
      "Epoch 1/1000\n",
      "\u001b[1m14661/14661\u001b[0m \u001b[32m━━━━━━━━━━━━━━━━━━━━\u001b[0m\u001b[37m\u001b[0m \u001b[1m53s\u001b[0m 4ms/step - accuracy: 0.9848 - loss: 0.0481 - val_accuracy: 0.9971 - val_loss: 0.0094\n",
      "Epoch 2/1000\n",
      "\u001b[1m14661/14661\u001b[0m \u001b[32m━━━━━━━━━━━━━━━━━━━━\u001b[0m\u001b[37m\u001b[0m \u001b[1m45s\u001b[0m 3ms/step - accuracy: 0.9967 - loss: 0.0106 - val_accuracy: 0.9984 - val_loss: 0.0060\n",
      "Epoch 3/1000\n",
      "\u001b[1m14661/14661\u001b[0m \u001b[32m━━━━━━━━━━━━━━━━━━━━\u001b[0m\u001b[37m\u001b[0m \u001b[1m45s\u001b[0m 3ms/step - accuracy: 0.9979 - loss: 0.0067 - val_accuracy: 0.9989 - val_loss: 0.0043\n",
      "Epoch 4/1000\n",
      "\u001b[1m14661/14661\u001b[0m \u001b[32m━━━━━━━━━━━━━━━━━━━━\u001b[0m\u001b[37m\u001b[0m \u001b[1m45s\u001b[0m 3ms/step - accuracy: 0.9985 - loss: 0.0051 - val_accuracy: 0.9990 - val_loss: 0.0035\n",
      "Epoch 5/1000\n",
      "\u001b[1m14661/14661\u001b[0m \u001b[32m━━━━━━━━━━━━━━━━━━━━\u001b[0m\u001b[37m\u001b[0m \u001b[1m50s\u001b[0m 3ms/step - accuracy: 0.9987 - loss: 0.0044 - val_accuracy: 0.9991 - val_loss: 0.0031\n",
      "Epoch 6/1000\n",
      "\u001b[1m14661/14661\u001b[0m \u001b[32m━━━━━━━━━━━━━━━━━━━━\u001b[0m\u001b[37m\u001b[0m \u001b[1m51s\u001b[0m 3ms/step - accuracy: 0.9988 - loss: 0.0040 - val_accuracy: 0.9992 - val_loss: 0.0029\n",
      "Epoch 7/1000\n",
      "\u001b[1m14661/14661\u001b[0m \u001b[32m━━━━━━━━━━━━━━━━━━━━\u001b[0m\u001b[37m\u001b[0m \u001b[1m60s\u001b[0m 4ms/step - accuracy: 0.9989 - loss: 0.0036 - val_accuracy: 0.9992 - val_loss: 0.0028\n",
      "Epoch 8/1000\n",
      "\u001b[1m14661/14661\u001b[0m \u001b[32m━━━━━━━━━━━━━━━━━━━━\u001b[0m\u001b[37m\u001b[0m \u001b[1m51s\u001b[0m 3ms/step - accuracy: 0.9990 - loss: 0.0036 - val_accuracy: 0.9992 - val_loss: 0.0026\n",
      "Epoch 9/1000\n",
      "\u001b[1m14661/14661\u001b[0m \u001b[32m━━━━━━━━━━━━━━━━━━━━\u001b[0m\u001b[37m\u001b[0m \u001b[1m50s\u001b[0m 3ms/step - accuracy: 0.9990 - loss: 0.0034 - val_accuracy: 0.9992 - val_loss: 0.0026\n",
      "Epoch 10/1000\n",
      "\u001b[1m14661/14661\u001b[0m \u001b[32m━━━━━━━━━━━━━━━━━━━━\u001b[0m\u001b[37m\u001b[0m \u001b[1m51s\u001b[0m 3ms/step - accuracy: 0.9991 - loss: 0.0033 - val_accuracy: 0.9993 - val_loss: 0.0025\n",
      "Epoch 11/1000\n",
      "\u001b[1m14661/14661\u001b[0m \u001b[32m━━━━━━━━━━━━━━━━━━━━\u001b[0m\u001b[37m\u001b[0m \u001b[1m50s\u001b[0m 3ms/step - accuracy: 0.9991 - loss: 0.0031 - val_accuracy: 0.9993 - val_loss: 0.0023\n",
      "Epoch 12/1000\n",
      "\u001b[1m14661/14661\u001b[0m \u001b[32m━━━━━━━━━━━━━━━━━━━━\u001b[0m\u001b[37m\u001b[0m \u001b[1m62s\u001b[0m 4ms/step - accuracy: 0.9991 - loss: 0.0030 - val_accuracy: 0.9993 - val_loss: 0.0023\n",
      "Epoch 13/1000\n",
      "\u001b[1m14661/14661\u001b[0m \u001b[32m━━━━━━━━━━━━━━━━━━━━\u001b[0m\u001b[37m\u001b[0m \u001b[1m78s\u001b[0m 5ms/step - accuracy: 0.9991 - loss: 0.0028 - val_accuracy: 0.9993 - val_loss: 0.0023\n",
      "Epoch 14/1000\n",
      "\u001b[1m14661/14661\u001b[0m \u001b[32m━━━━━━━━━━━━━━━━━━━━\u001b[0m\u001b[37m\u001b[0m \u001b[1m79s\u001b[0m 5ms/step - accuracy: 0.9992 - loss: 0.0027 - val_accuracy: 0.9994 - val_loss: 0.0023\n"
     ]
    }
   ],
   "source": [
    "def build_classification_model(input_shape):\n",
    "\n",
    "    model = Sequential([\n",
    "        Input(shape=input_shape),\n",
    "        Dense(256, activation='relu'),\n",
    "        Dropout(0.5),\n",
    "        Dense(256, activation='relu'),\n",
    "        Dropout(0.3),\n",
    "        Dense(128, activation='relu'),\n",
    "        Dropout(0.15),\n",
    "        Dense(1, activation='sigmoid')\n",
    "    ])\n",
    "    \n",
    "    model.compile(\n",
    "        optimizer=Adam(learning_rate=0.0001),\n",
    "        loss='binary_crossentropy',  # Pérdida para problemas binarios\n",
    "        metrics=['accuracy']#, tf.keras.metrics.Precision(), tf.keras.metrics.Recall()]\n",
    "    )\n",
    "    \n",
    "    return model\n",
    "\n",
    "classifier = build_classification_model((X_train.shape[1],))\n",
    "\n",
    "callbacks = [EarlyStopping(monitor='val_loss', patience=2, restore_best_weights=True)]\n",
    "\n",
    "history = classifier.fit(\n",
    "    X_train, y_train,\n",
    "    validation_data=(X_test, y_test),\n",
    "    epochs=1000,  \n",
    "    batch_size=128,\n",
    "    callbacks=callbacks,\n",
    "    verbose=1\n",
    ")"
   ]
  },
  {
   "cell_type": "code",
   "execution_count": 131,
   "id": "6dced212",
   "metadata": {},
   "outputs": [
    {
     "name": "stdout",
     "output_type": "stream",
     "text": [
      "\n",
      "Precisión en test: 99.93%\n",
      "\u001b[1m14661/14661\u001b[0m \u001b[32m━━━━━━━━━━━━━━━━━━━━\u001b[0m\u001b[37m\u001b[0m \u001b[1m15s\u001b[0m 1ms/step\n",
      "              precision    recall  f1-score   support\n",
      "\n",
      "           0       1.00      1.00      1.00    251702\n",
      "           1       1.00      1.00      1.00    217439\n",
      "\n",
      "    accuracy                           1.00    469141\n",
      "   macro avg       1.00      1.00      1.00    469141\n",
      "weighted avg       1.00      1.00      1.00    469141\n",
      "\n"
     ]
    },
    {
     "data": {
      "image/png": "[encoded data removed]",
      "text/plain": [
       "<Figure size 640x480 with 2 Axes>"
      ]
     },
     "metadata": {},
     "output_type": "display_data"
    }
   ],
   "source": [
    "loss, accuracy = classifier.evaluate(X_test, y_test, verbose=0)\n",
    "\n",
    "print(f\"\\nPrecisión en test: {accuracy*100:.2f}%\")\n",
    "\n",
    "# Métricas detalladas\n",
    "\n",
    "y_pred = (classifier.predict(X_test) > 0.5).astype(\"int32\")\n",
    "\n",
    "print(classification_report(y_test, y_pred))\n",
    "\n",
    "sns.heatmap(confusion_matrix(y_test, y_pred), annot=True, fmt='d', cmap='Blues')\n",
    "\n",
    "plt.title('Matriz de confusión')\n",
    "\n",
    "plt.xlabel('Predicho')\n",
    "\n",
    "plt.ylabel('Real')\n",
    "\n",
    "plt.show()"
   ]
  },
  {
   "cell_type": "code",
   "execution_count": 134,
   "id": "57993496",
   "metadata": {},
   "outputs": [
    {
     "data": {
      "image/png": "[encoded data removed]",
      "text/plain": [
       "<Figure size 1000x500 with 1 Axes>"
      ]
     },
     "metadata": {},
     "output_type": "display_data"
    }
   ],
   "source": [
    "plt.figure(figsize=(10, 5))\n",
    "plt.plot(losses, label='Loss del generador')\n",
    "plt.title('Pérdida por época (GAN)')\n",
    "plt.xlabel('Época')\n",
    "plt.ylabel('Loss')\n",
    "plt.grid(True)\n",
    "plt.legend()\n",
    "plt.tight_layout()\n",
    "plt.show()"
   ]
  },
  {
   "cell_type": "markdown",
   "id": "a6e0bd4f",
   "metadata": {},
   "source": [
    "## 6. Save the model"
   ]
  },
  {
   "cell_type": "code",
   "execution_count": 132,
   "id": "f31706a6",
   "metadata": {},
   "outputs": [],
   "source": [
    "classifier.save(\"modelo_principal.keras\")"
   ]
  },
  {
   "cell_type": "markdown",
   "id": "30ac1f8a",
   "metadata": {},
   "source": [
    "We also save X_filtered because we will need it to compare the GAN results"
   ]
  },
  {
   "cell_type": "code",
   "execution_count": null,
   "id": "0ed04068",
   "metadata": {},
   "outputs": [],
   "source": [
    "X_filtered = X_filtered.reset_index(drop=True)\n",
    "y = y.reset_index(drop=True)\n",
    "\n",
    "X_filtered[\"Target\"] = y"
   ]
  },
  {
   "cell_type": "code",
   "execution_count": 145,
   "id": "b7120478",
   "metadata": {},
   "outputs": [],
   "source": [
    "X_filtered.to_csv(\"X_filtered.csv\", index=False)"
   ]
  }
 ],
 "metadata": {
  "kernelspec": {
   "display_name": "tensorflow_env",
   "language": "python",
   "name": "python3"
  },
  "language_info": {
   "codemirror_mode": {
    "name": "ipython",
    "version": 3
   },
   "file_extension": ".py",
   "mimetype": "text/x-python",
   "name": "python",
   "nbconvert_exporter": "python",
   "pygments_lexer": "ipython3",
   "version": "3.9.21"
  }
 },
 "nbformat": 4,
 "nbformat_minor": 5
}
