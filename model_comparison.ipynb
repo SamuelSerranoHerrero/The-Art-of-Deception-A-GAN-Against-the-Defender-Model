{
 "cells": [
  {
   "cell_type": "code",
   "execution_count": 1,
   "id": "85f75fef",
   "metadata": {},
   "outputs": [],
   "source": [
    "import pandas as pd\n",
    "import numpy as np\n",
    "import seaborn as sns\n",
    "import ipaddress\n",
    "from tensorflow.keras.models import Sequential, load_model\n",
    "from tensorflow.keras.layers import Dense, Dropout, Input, LeakyReLU, BatchNormalization\n",
    "from tensorflow.keras.optimizers import Adam\n",
    "from tensorflow.keras.callbacks import EarlyStopping, ReduceLROnPlateau, ModelCheckpoint\n",
    "import matplotlib.pyplot as plt\n",
    "import tensorflow as tf\n",
    "from sklearn.decomposition import PCA\n",
    "from sklearn.model_selection import train_test_split\n",
    "from sklearn.metrics import classification_report, confusion_matrix"
   ]
  },
  {
   "cell_type": "code",
   "execution_count": null,
   "id": "79c0bb5b",
   "metadata": {},
   "outputs": [],
   "source": [
    "import pandas as pd\n",
    "import numpy as np\n",
    "import seaborn as sns\n",
    "import ipaddress\n",
    "from tensorflow.keras.models import Sequential, load_model\n",
    "from tensorflow.keras.layers import Dense, Dropout, Input, LeakyReLU, BatchNormalization\n",
    "from tensorflow.keras.optimizers import Adam\n",
    "from tensorflow.keras.callbacks import EarlyStopping, ReduceLROnPlateau, ModelCheckpoint\n",
    "import matplotlib.pyplot as plt\n",
    "import tensorflow as tf\n",
    "from sklearn.decomposition import PCA\n",
    "from sklearn.model_selection import train_test_split\n",
    "from sklearn.metrics import classification_report, confusion_matrix"
   ]
  },
  {
   "cell_type": "markdown",
   "id": "4a408d6f",
   "metadata": {},
   "source": [
    "## 1. The model, the GAN, and the data are loaded"
   ]
  },
  {
   "cell_type": "code",
   "execution_count": 2,
   "id": "da2f0ff4",
   "metadata": {},
   "outputs": [],
   "source": [
    "classifier = load_model(\"modelo_principal.keras\")"
   ]
  },
  {
   "cell_type": "code",
   "execution_count": 3,
   "id": "754a4512",
   "metadata": {},
   "outputs": [],
   "source": [
    "df = pd.read_csv(\"X_filtered.csv\")"
   ]
  },
  {
   "cell_type": "code",
   "execution_count": 4,
   "id": "f945e166",
   "metadata": {},
   "outputs": [
    {
     "name": "stderr",
     "output_type": "stream",
     "text": [
      "c:\\Users\\samue\\anaconda3\\envs\\tensorflow_env\\lib\\site-packages\\keras\\src\\saving\\saving_lib.py:757: UserWarning: Skipping variable loading for optimizer 'adam', because it has 2 variables whereas the saved optimizer has 18 variables. \n",
      "  saveable.load_own_variables(weights_store.get(inner_path))\n",
      "c:\\Users\\samue\\anaconda3\\envs\\tensorflow_env\\lib\\site-packages\\keras\\src\\saving\\saving_lib.py:757: UserWarning: Skipping variable loading for optimizer 'adam', because it has 38 variables whereas the saved optimizer has 2 variables. \n",
      "  saveable.load_own_variables(weights_store.get(inner_path))\n"
     ]
    }
   ],
   "source": [
    "# Re-definir la función de pérdida personalizada\n",
    "def adversarial_loss(y_true, y_pred):\n",
    "    return tf.reduce_mean(tf.keras.losses.binary_crossentropy(tf.zeros_like(y_pred), y_pred))\n",
    "\n",
    "# Cargar el modelo indicando la función personalizada\n",
    "gan = load_model(\"gan.keras\", custom_objects={\"adversarial_loss\": adversarial_loss})\n",
    "generator = load_model(\"generator.keras\")"
   ]
  },
  {
   "cell_type": "markdown",
   "id": "537a46ed",
   "metadata": {},
   "source": [
    "## 2. We generate 200,000 samples using the GAN to achieve class balance with the benign traffic"
   ]
  },
  {
   "cell_type": "code",
   "execution_count": 5,
   "id": "ccb2d2a0",
   "metadata": {},
   "outputs": [
    {
     "data": {
      "text/plain": [
       "Target\n",
       "0    1258280\n",
       "1    1087425\n",
       "Name: count, dtype: int64"
      ]
     },
     "execution_count": 5,
     "metadata": {},
     "output_type": "execute_result"
    }
   ],
   "source": [
    "df[\"Target\"].value_counts()"
   ]
  },
  {
   "cell_type": "code",
   "execution_count": 6,
   "id": "87db7a44",
   "metadata": {},
   "outputs": [
    {
     "name": "stdout",
     "output_type": "stream",
     "text": [
      "\u001b[1m6250/6250\u001b[0m \u001b[32m━━━━━━━━━━━━━━━━━━━━\u001b[0m\u001b[37m\u001b[0m \u001b[1m7s\u001b[0m 1ms/step\n"
     ]
    }
   ],
   "source": [
    "input_dim = 90  # vector aleatorio que usará el generador para crear el ruido\n",
    "datos_generados = generator.predict(np.random.normal(0, 1, (200000, input_dim)))\n",
    "datos_generados = pd.DataFrame(datos_generados, columns=df.drop(columns= \"Target\").columns)\n",
    "datos_generados[\"Target\"] = 1\n",
    "datos_generados = datos_generados[df.columns]"
   ]
  },
  {
   "cell_type": "code",
   "execution_count": 7,
   "id": "a9e55ff7",
   "metadata": {},
   "outputs": [
    {
     "data": {
      "text/plain": [
       "Target\n",
       "1    1287425\n",
       "0    1258280\n",
       "Name: count, dtype: int64"
      ]
     },
     "execution_count": 7,
     "metadata": {},
     "output_type": "execute_result"
    }
   ],
   "source": [
    "df_combined = pd.concat([df, datos_generados], ignore_index=True)\n",
    "df_combined[\"Target\"].value_counts()"
   ]
  },
  {
   "cell_type": "markdown",
   "id": "c5cd9ad2",
   "metadata": {},
   "source": [
    "## 3. The original model is retrained"
   ]
  },
  {
   "cell_type": "code",
   "execution_count": 8,
   "id": "2d332b81",
   "metadata": {},
   "outputs": [],
   "source": [
    "X = df_combined.drop(columns= \"Target\")\n",
    "y = df_combined[\"Target\"]\n",
    "X_train, X_test, y_train, y_test = train_test_split(X, y, test_size= 0.2)"
   ]
  },
  {
   "cell_type": "code",
   "execution_count": 9,
   "id": "25a90fa9",
   "metadata": {},
   "outputs": [
    {
     "name": "stdout",
     "output_type": "stream",
     "text": [
      "Epoch 1/5000\n",
      "\u001b[1m15911/15911\u001b[0m \u001b[32m━━━━━━━━━━━━━━━━━━━━\u001b[0m\u001b[37m\u001b[0m \u001b[1m59s\u001b[0m 4ms/step - accuracy: 0.9850 - loss: 0.0486 - val_accuracy: 0.9979 - val_loss: 0.0067\n",
      "Epoch 2/5000\n",
      "\u001b[1m15911/15911\u001b[0m \u001b[32m━━━━━━━━━━━━━━━━━━━━\u001b[0m\u001b[37m\u001b[0m \u001b[1m59s\u001b[0m 4ms/step - accuracy: 0.9973 - loss: 0.0090 - val_accuracy: 0.9984 - val_loss: 0.0045\n",
      "Epoch 3/5000\n",
      "\u001b[1m15911/15911\u001b[0m \u001b[32m━━━━━━━━━━━━━━━━━━━━\u001b[0m\u001b[37m\u001b[0m \u001b[1m60s\u001b[0m 4ms/step - accuracy: 0.9981 - loss: 0.0059 - val_accuracy: 0.9989 - val_loss: 0.0035\n",
      "Epoch 4/5000\n",
      "\u001b[1m15911/15911\u001b[0m \u001b[32m━━━━━━━━━━━━━━━━━━━━\u001b[0m\u001b[37m\u001b[0m \u001b[1m60s\u001b[0m 4ms/step - accuracy: 0.9985 - loss: 0.0046 - val_accuracy: 0.9991 - val_loss: 0.0030\n",
      "Epoch 5/5000\n",
      "\u001b[1m15911/15911\u001b[0m \u001b[32m━━━━━━━━━━━━━━━━━━━━\u001b[0m\u001b[37m\u001b[0m \u001b[1m53s\u001b[0m 3ms/step - accuracy: 0.9988 - loss: 0.0040 - val_accuracy: 0.9991 - val_loss: 0.0028\n",
      "Epoch 6/5000\n",
      "\u001b[1m15911/15911\u001b[0m \u001b[32m━━━━━━━━━━━━━━━━━━━━\u001b[0m\u001b[37m\u001b[0m \u001b[1m56s\u001b[0m 4ms/step - accuracy: 0.9989 - loss: 0.0036 - val_accuracy: 0.9991 - val_loss: 0.0029\n",
      "Epoch 7/5000\n",
      "\u001b[1m15911/15911\u001b[0m \u001b[32m━━━━━━━━━━━━━━━━━━━━\u001b[0m\u001b[37m\u001b[0m \u001b[1m56s\u001b[0m 3ms/step - accuracy: 0.9990 - loss: 0.0032 - val_accuracy: 0.9993 - val_loss: 0.0024\n",
      "Epoch 8/5000\n",
      "\u001b[1m15911/15911\u001b[0m \u001b[32m━━━━━━━━━━━━━━━━━━━━\u001b[0m\u001b[37m\u001b[0m \u001b[1m74s\u001b[0m 5ms/step - accuracy: 0.9991 - loss: 0.0035 - val_accuracy: 0.9993 - val_loss: 0.0024\n",
      "Epoch 9/5000\n",
      "\u001b[1m15911/15911\u001b[0m \u001b[32m━━━━━━━━━━━━━━━━━━━━\u001b[0m\u001b[37m\u001b[0m \u001b[1m57s\u001b[0m 4ms/step - accuracy: 0.9991 - loss: 0.0032 - val_accuracy: 0.9993 - val_loss: 0.0024\n",
      "Epoch 10/5000\n",
      "\u001b[1m15911/15911\u001b[0m \u001b[32m━━━━━━━━━━━━━━━━━━━━\u001b[0m\u001b[37m\u001b[0m \u001b[1m58s\u001b[0m 4ms/step - accuracy: 0.9991 - loss: 0.0032 - val_accuracy: 0.9993 - val_loss: 0.0022\n",
      "Epoch 11/5000\n",
      "\u001b[1m15911/15911\u001b[0m \u001b[32m━━━━━━━━━━━━━━━━━━━━\u001b[0m\u001b[37m\u001b[0m \u001b[1m54s\u001b[0m 3ms/step - accuracy: 0.9992 - loss: 0.0028 - val_accuracy: 0.9994 - val_loss: 0.0022\n",
      "Epoch 12/5000\n",
      "\u001b[1m15911/15911\u001b[0m \u001b[32m━━━━━━━━━━━━━━━━━━━━\u001b[0m\u001b[37m\u001b[0m \u001b[1m50s\u001b[0m 3ms/step - accuracy: 0.9992 - loss: 0.0030 - val_accuracy: 0.9994 - val_loss: 0.0022\n",
      "Epoch 13/5000\n",
      "\u001b[1m15911/15911\u001b[0m \u001b[32m━━━━━━━━━━━━━━━━━━━━\u001b[0m\u001b[37m\u001b[0m \u001b[1m50s\u001b[0m 3ms/step - accuracy: 0.9992 - loss: 0.0028 - val_accuracy: 0.9993 - val_loss: 0.0023\n",
      "Epoch 14/5000\n",
      "\u001b[1m15911/15911\u001b[0m \u001b[32m━━━━━━━━━━━━━━━━━━━━\u001b[0m\u001b[37m\u001b[0m \u001b[1m49s\u001b[0m 3ms/step - accuracy: 0.9992 - loss: 0.0028 - val_accuracy: 0.9994 - val_loss: 0.0022\n",
      "Epoch 15/5000\n",
      "\u001b[1m15911/15911\u001b[0m \u001b[32m━━━━━━━━━━━━━━━━━━━━\u001b[0m\u001b[37m\u001b[0m \u001b[1m48s\u001b[0m 3ms/step - accuracy: 0.9992 - loss: 0.0048 - val_accuracy: 0.9994 - val_loss: 0.0021\n",
      "Epoch 16/5000\n",
      "\u001b[1m15911/15911\u001b[0m \u001b[32m━━━━━━━━━━━━━━━━━━━━\u001b[0m\u001b[37m\u001b[0m \u001b[1m100s\u001b[0m 6ms/step - accuracy: 0.9992 - loss: 0.0027 - val_accuracy: 0.9994 - val_loss: 0.0021\n",
      "Epoch 17/5000\n",
      "\u001b[1m15911/15911\u001b[0m \u001b[32m━━━━━━━━━━━━━━━━━━━━\u001b[0m\u001b[37m\u001b[0m \u001b[1m94s\u001b[0m 6ms/step - accuracy: 0.9992 - loss: 0.0025 - val_accuracy: 0.9994 - val_loss: 0.0021\n",
      "Epoch 18/5000\n",
      "\u001b[1m15911/15911\u001b[0m \u001b[32m━━━━━━━━━━━━━━━━━━━━\u001b[0m\u001b[37m\u001b[0m \u001b[1m163s\u001b[0m 10ms/step - accuracy: 0.9992 - loss: 0.0025 - val_accuracy: 0.9994 - val_loss: 0.0021\n",
      "Epoch 19/5000\n",
      "\u001b[1m15911/15911\u001b[0m \u001b[32m━━━━━━━━━━━━━━━━━━━━\u001b[0m\u001b[37m\u001b[0m \u001b[1m165s\u001b[0m 10ms/step - accuracy: 0.9992 - loss: 0.0029 - val_accuracy: 0.9994 - val_loss: 0.0021\n",
      "Epoch 20/5000\n",
      "\u001b[1m15911/15911\u001b[0m \u001b[32m━━━━━━━━━━━━━━━━━━━━\u001b[0m\u001b[37m\u001b[0m \u001b[1m123s\u001b[0m 8ms/step - accuracy: 0.9993 - loss: 0.0024 - val_accuracy: 0.9994 - val_loss: 0.0020\n",
      "Epoch 21/5000\n",
      "\u001b[1m15911/15911\u001b[0m \u001b[32m━━━━━━━━━━━━━━━━━━━━\u001b[0m\u001b[37m\u001b[0m \u001b[1m57s\u001b[0m 4ms/step - accuracy: 0.9993 - loss: 0.0024 - val_accuracy: 0.9994 - val_loss: 0.0021\n",
      "Epoch 22/5000\n",
      "\u001b[1m15911/15911\u001b[0m \u001b[32m━━━━━━━━━━━━━━━━━━━━\u001b[0m\u001b[37m\u001b[0m \u001b[1m65s\u001b[0m 4ms/step - accuracy: 0.9992 - loss: 0.0025 - val_accuracy: 0.9993 - val_loss: 0.0023\n",
      "Epoch 23/5000\n",
      "\u001b[1m15911/15911\u001b[0m \u001b[32m━━━━━━━━━━━━━━━━━━━━\u001b[0m\u001b[37m\u001b[0m \u001b[1m125s\u001b[0m 8ms/step - accuracy: 0.9993 - loss: 0.0026 - val_accuracy: 0.9994 - val_loss: 0.0020\n",
      "Epoch 24/5000\n",
      "\u001b[1m15911/15911\u001b[0m \u001b[32m━━━━━━━━━━━━━━━━━━━━\u001b[0m\u001b[37m\u001b[0m \u001b[1m63s\u001b[0m 4ms/step - accuracy: 0.9993 - loss: 0.0033 - val_accuracy: 0.9994 - val_loss: 0.0020\n",
      "Epoch 25/5000\n",
      "\u001b[1m15911/15911\u001b[0m \u001b[32m━━━━━━━━━━━━━━━━━━━━\u001b[0m\u001b[37m\u001b[0m \u001b[1m64s\u001b[0m 4ms/step - accuracy: 0.9992 - loss: 0.0029 - val_accuracy: 0.9994 - val_loss: 0.0020\n"
     ]
    }
   ],
   "source": [
    "def build_classification_model(input_shape):\n",
    "\n",
    "    model = Sequential([\n",
    "        Input(shape=input_shape),\n",
    "        Dense(256, activation='relu'),\n",
    "        Dropout(0.5),\n",
    "        Dense(256, activation='relu'),\n",
    "        Dropout(0.3),\n",
    "        Dense(128, activation='relu'),\n",
    "        Dropout(0.15),\n",
    "        Dense(1, activation='sigmoid')\n",
    "    ])\n",
    "    \n",
    "    model.compile(\n",
    "        optimizer=Adam(learning_rate=0.0001),\n",
    "        loss='binary_crossentropy',  # Pérdida para problemas binarios\n",
    "        metrics=['accuracy']#, tf.keras.metrics.Precision(), tf.keras.metrics.Recall()]\n",
    "    )\n",
    "    \n",
    "    return model\n",
    "\n",
    "classifier_reentrenado = build_classification_model((X_train.shape[1],))\n",
    "\n",
    "callbacks = [EarlyStopping(monitor='val_loss', patience=5, restore_best_weights=True)]\n",
    "\n",
    "history = classifier_reentrenado.fit(\n",
    "    X_train, y_train,\n",
    "    validation_data=(X_test, y_test),\n",
    "    epochs=5000, \n",
    "    batch_size=128,\n",
    "    callbacks=callbacks,\n",
    "    verbose=1\n",
    ")"
   ]
  },
  {
   "cell_type": "markdown",
   "id": "a04c6de4",
   "metadata": {},
   "source": [
    "## 4. New data is generated and the model is evaluated"
   ]
  },
  {
   "cell_type": "code",
   "execution_count": 10,
   "id": "5a9800bf",
   "metadata": {},
   "outputs": [
    {
     "name": "stdout",
     "output_type": "stream",
     "text": [
      "\u001b[1m3125/3125\u001b[0m \u001b[32m━━━━━━━━━━━━━━━━━━━━\u001b[0m\u001b[37m\u001b[0m \u001b[1m4s\u001b[0m 1ms/step\n",
      "\u001b[1m3125/3125\u001b[0m \u001b[32m━━━━━━━━━━━━━━━━━━━━\u001b[0m\u001b[37m\u001b[0m \u001b[1m3s\u001b[0m 815us/step\n"
     ]
    },
    {
     "data": {
      "text/plain": [
       "0\n",
       "1    100000\n",
       "Name: count, dtype: int64"
      ]
     },
     "execution_count": 10,
     "metadata": {},
     "output_type": "execute_result"
    }
   ],
   "source": [
    "nuevos_datos_generados = generator.predict(np.random.normal(0, 1, (100000, input_dim)))\n",
    "nuevos_datos_generados = pd.DataFrame(nuevos_datos_generados, columns= X_train.columns)\n",
    "preds = classifier_reentrenado.predict(nuevos_datos_generados)\n",
    "predicciones_clases_modelo_reentrenado = (preds > 0.5).astype(int)\n",
    "pd.DataFrame(predicciones_clases_modelo_reentrenado).value_counts()"
   ]
  },
  {
   "cell_type": "code",
   "execution_count": 11,
   "id": "90e3570f",
   "metadata": {},
   "outputs": [
    {
     "name": "stdout",
     "output_type": "stream",
     "text": [
      "\n",
      "Precisión en test: 99.94%\n",
      "\u001b[1m15911/15911\u001b[0m \u001b[32m━━━━━━━━━━━━━━━━━━━━\u001b[0m\u001b[37m\u001b[0m \u001b[1m13s\u001b[0m 791us/step\n",
      "              precision    recall  f1-score   support\n",
      "\n",
      "           0       1.00      1.00      1.00    251444\n",
      "           1       1.00      1.00      1.00    257697\n",
      "\n",
      "    accuracy                           1.00    509141\n",
      "   macro avg       1.00      1.00      1.00    509141\n",
      "weighted avg       1.00      1.00      1.00    509141\n",
      "\n"
     ]
    },
    {
     "data": {
      "image/png": "[encoded data removed]",
      "text/plain": [
       "<Figure size 640x480 with 2 Axes>"
      ]
     },
     "metadata": {},
     "output_type": "display_data"
    }
   ],
   "source": [
    "loss, accuracy = classifier_reentrenado.evaluate(X_test, y_test, verbose=0)\n",
    "\n",
    "print(f\"\\nPrecisión en test: {accuracy*100:.2f}%\")\n",
    "\n",
    "# Métricas detalladas\n",
    "\n",
    "y_pred = (classifier_reentrenado.predict(X_test) > 0.5).astype(\"int32\")\n",
    "\n",
    "print(classification_report(y_test, y_pred))\n",
    "\n",
    "sns.heatmap(confusion_matrix(y_test, y_pred), annot=True, fmt='d', cmap='Blues')\n",
    "\n",
    "plt.title('Matriz de confusión')\n",
    "\n",
    "plt.xlabel('Predicho')\n",
    "\n",
    "plt.ylabel('Real')\n",
    "\n",
    "plt.show()"
   ]
  },
  {
   "cell_type": "markdown",
   "id": "8151d9d4",
   "metadata": {},
   "source": [
    "Next, the same generated data is evaluated using the original model, in order to compare its performance before and after the new training process."
   ]
  },
  {
   "cell_type": "code",
   "execution_count": 12,
   "id": "5384967e",
   "metadata": {},
   "outputs": [
    {
     "name": "stdout",
     "output_type": "stream",
     "text": [
      "\u001b[1m3125/3125\u001b[0m \u001b[32m━━━━━━━━━━━━━━━━━━━━\u001b[0m\u001b[37m\u001b[0m \u001b[1m3s\u001b[0m 818us/step\n"
     ]
    },
    {
     "data": {
      "text/plain": [
       "0\n",
       "0    99966\n",
       "1       34\n",
       "Name: count, dtype: int64"
      ]
     },
     "execution_count": 12,
     "metadata": {},
     "output_type": "execute_result"
    }
   ],
   "source": [
    "preds_modelo_original = classifier.predict(nuevos_datos_generados)\n",
    "predicciones_clases_primer_modelo = (preds_modelo_original > 0.5).astype(int)\n",
    "pd.DataFrame(predicciones_clases_primer_modelo).value_counts()"
   ]
  },
  {
   "cell_type": "code",
   "execution_count": 13,
   "id": "1a55d299",
   "metadata": {},
   "outputs": [
    {
     "name": "stdout",
     "output_type": "stream",
     "text": [
      "\n",
      "Precisión en test: 92.11%\n",
      "\u001b[1m15911/15911\u001b[0m \u001b[32m━━━━━━━━━━━━━━━━━━━━\u001b[0m\u001b[37m\u001b[0m \u001b[1m15s\u001b[0m 965us/step\n",
      "              precision    recall  f1-score   support\n",
      "\n",
      "           0       0.86      1.00      0.93    251444\n",
      "           1       1.00      0.84      0.92    257697\n",
      "\n",
      "    accuracy                           0.92    509141\n",
      "   macro avg       0.93      0.92      0.92    509141\n",
      "weighted avg       0.93      0.92      0.92    509141\n",
      "\n"
     ]
    },
    {
     "data": {
      "image/png": "[encoded data removed]",
      "text/plain": [
       "<Figure size 640x480 with 2 Axes>"
      ]
     },
     "metadata": {},
     "output_type": "display_data"
    }
   ],
   "source": [
    "loss, accuracy = classifier.evaluate(X_test, y_test, verbose=0)\n",
    "\n",
    "print(f\"\\nPrecisión en test: {accuracy*100:.2f}%\")\n",
    "\n",
    "# Métricas detalladas\n",
    "\n",
    "y_pred = (classifier.predict(X_test) > 0.5).astype(\"int32\")\n",
    "\n",
    "print(classification_report(y_test, y_pred))\n",
    "\n",
    "sns.heatmap(confusion_matrix(y_test, y_pred), annot=True, fmt='d', cmap='Blues')\n",
    "\n",
    "plt.title('Matriz de confusión')\n",
    "\n",
    "plt.xlabel('Predicho')\n",
    "\n",
    "plt.ylabel('Real')\n",
    "\n",
    "plt.show()"
   ]
  },
  {
   "cell_type": "markdown",
   "id": "33959f0d",
   "metadata": {},
   "source": [
    "In this result, we observe how the model initially classified most of the data as benign (label 0). However, after retraining with synthetic data, the improved model shows a greater ability to correctly detect the generated samples, avoiding being deceived."
   ]
  },
  {
   "cell_type": "markdown",
   "id": "ab53b874",
   "metadata": {},
   "source": [
    "## 6. The retrained model is saved"
   ]
  },
  {
   "cell_type": "code",
   "execution_count": 15,
   "id": "32ebf56b",
   "metadata": {},
   "outputs": [],
   "source": [
    "classifier_reentrenado.save(\"modelo_reentrenado.keras\")"
   ]
  }
 ],
 "metadata": {
  "kernelspec": {
   "display_name": "tensorflow_env",
   "language": "python",
   "name": "python3"
  },
  "language_info": {
   "codemirror_mode": {
    "name": "ipython",
    "version": 3
   },
   "file_extension": ".py",
   "mimetype": "text/x-python",
   "name": "python",
   "nbconvert_exporter": "python",
   "pygments_lexer": "ipython3",
   "version": "3.9.21"
  }
 },
 "nbformat": 4,
 "nbformat_minor": 5
}
